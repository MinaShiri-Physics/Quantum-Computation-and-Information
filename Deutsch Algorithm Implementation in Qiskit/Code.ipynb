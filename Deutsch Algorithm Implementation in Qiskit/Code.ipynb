{
  "cells": [
    {
      "cell_type": "markdown",
      "metadata": {
        "id": "Ht6x1MxDxN00"
      },
      "source": [
        "<div align=center>\n",
        "<br>\n",
        "<img src=\"https://aut.ac.ir/templates/tmpl_modern01/images/logo_fa.png\" alt=\"Amirkabir University Logo\" width=\"100\">\n",
        "\n",
        "<br>\n",
        "<font size=2>\n",
        "<b>Amirkabir University of Technology</b>\n",
        "</font>\n",
        "\n",
        "<br>\n",
        "<font size=6>\n",
        "<b>Special Topics in Quantum Computing</b>\n",
        "</font>\n",
        "\n",
        "<br>\n",
        "<hr/>\n",
        "<font size=6>\n",
        "<b>Deutsch Algorithm</b>\n",
        "</font>\n",
        "\n",
        "</div>\n",
        "</font>"
      ]
    },
    {
      "cell_type": "markdown",
      "metadata": {},
      "source": [
        "### Import Libraries"
      ]
    },
    {
      "cell_type": "code",
      "execution_count": 149,
      "metadata": {
        "id": "Zto9_l2bxN06"
      },
      "outputs": [],
      "source": [
        "try:\n",
        "    import qiskit\n",
        "    import qiskit_aer\n",
        "    import matplotlib\n",
        "    import pylatexenc\n",
        "except ImportError:\n",
        "    print(\"Installing qiskit and qiskit-aer...\")\n",
        "    import subprocess\n",
        "    import sys\n",
        "    subprocess.check_call([sys.executable, \"-m\", \"pip\", \"install\", \"qiskit\", \"qiskit-aer\"])\n",
        "finally:\n",
        "    from qiskit import QuantumCircuit, transpile\n",
        "    from qiskit_aer import AerSimulator\n",
        "    from qiskit.visualization import plot_histogram\n",
        "    import matplotlib.pyplot as plt"
      ]
    },
    {
      "cell_type": "markdown",
      "metadata": {
        "id": "8amZphlTxN08"
      },
      "source": [
        "Create a quantum circuit with 2 qubits and 1 classical bit for measurement"
      ]
    },
    {
      "cell_type": "code",
      "execution_count": 150,
      "metadata": {
        "id": "X6KMZvKqxN0-"
      },
      "outputs": [],
      "source": [
        "qc = QuantumCircuit(2, 1)"
      ]
    },
    {
      "cell_type": "markdown",
      "metadata": {
        "id": "OGiQnF6-xN0-"
      },
      "source": [
        "Apply Hadamard gate to the first qubit (input qubit)"
      ]
    },
    {
      "cell_type": "code",
      "execution_count": 151,
      "metadata": {
        "colab": {
          "base_uri": "https://localhost:8080/"
        },
        "id": "VEzvfXa-xN0_",
        "outputId": "8d3c75fd-5a60-4f04-f9d1-10d88cd39284"
      },
      "outputs": [
        {
          "data": {
            "text/plain": [
              "<qiskit.circuit.instructionset.InstructionSet at 0x7c4137ef65f0>"
            ]
          },
          "execution_count": 151,
          "metadata": {},
          "output_type": "execute_result"
        }
      ],
      "source": [
        "qc.h(0)"
      ]
    },
    {
      "cell_type": "markdown",
      "metadata": {
        "id": "z3TC_h1IxN1A"
      },
      "source": [
        "Apply X and Hadamard gate to the second qubit (ancilla qubit), setting it to |1> state"
      ]
    },
    {
      "cell_type": "code",
      "execution_count": 152,
      "metadata": {
        "colab": {
          "base_uri": "https://localhost:8080/"
        },
        "id": "EwW7G0BBxN1B",
        "outputId": "f3324971-52ac-4c1f-d3ec-dd45752eb54c"
      },
      "outputs": [
        {
          "data": {
            "text/plain": [
              "<qiskit.circuit.instructionset.InstructionSet at 0x7c4137ef7970>"
            ]
          },
          "execution_count": 152,
          "metadata": {},
          "output_type": "execute_result"
        }
      ],
      "source": [
        "qc.x(1)\n",
        "qc.h(1)"
      ]
    },
    {
      "cell_type": "markdown",
      "metadata": {
        "id": "RpsxTsoAxN1C"
      },
      "source": [
        "Define the oracle Uf (black box) as a subcircuit"
      ]
    },
    {
      "cell_type": "code",
      "execution_count": 153,
      "metadata": {
        "colab": {
          "base_uri": "https://localhost:8080/"
        },
        "id": "k0eMSdg2xN1D",
        "outputId": "0ca24f59-0bea-4725-b016-65a8bf1feb98"
      },
      "outputs": [
        {
          "data": {
            "text/plain": [
              "<qiskit.circuit.instructionset.InstructionSet at 0x7c4137ef4b50>"
            ]
          },
          "execution_count": 153,
          "metadata": {},
          "output_type": "execute_result"
        }
      ],
      "source": [
        "oracle = QuantumCircuit(2, name='Balanced Oracle (Uf)')\n",
        "oracle.cx(0, 1)"
      ]
    },
    {
      "cell_type": "markdown",
      "metadata": {
        "id": "ya2bALuRxN1D"
      },
      "source": [
        "Append the oracle subcircuit as a black box"
      ]
    },
    {
      "cell_type": "code",
      "execution_count": 154,
      "metadata": {
        "colab": {
          "base_uri": "https://localhost:8080/"
        },
        "id": "LBUuyGCsxN1E",
        "outputId": "c7e916b3-c847-4287-e240-d434caa40036"
      },
      "outputs": [
        {
          "data": {
            "text/plain": [
              "<qiskit.circuit.instructionset.InstructionSet at 0x7c4137ef6c50>"
            ]
          },
          "execution_count": 154,
          "metadata": {},
          "output_type": "execute_result"
        }
      ],
      "source": [
        "qc.append(oracle, [0, 1])"
      ]
    },
    {
      "cell_type": "markdown",
      "metadata": {
        "id": "9IPN0-YrxN1E"
      },
      "source": [
        "Apply Hadamard gate again to the input qubit"
      ]
    },
    {
      "cell_type": "code",
      "execution_count": 155,
      "metadata": {
        "colab": {
          "base_uri": "https://localhost:8080/"
        },
        "id": "_CcbK87xxN1F",
        "outputId": "0450869b-c0bc-4ce8-83ba-f5c463c49ce6"
      },
      "outputs": [
        {
          "data": {
            "text/plain": [
              "<qiskit.circuit.instructionset.InstructionSet at 0x7c4137ef5720>"
            ]
          },
          "execution_count": 155,
          "metadata": {},
          "output_type": "execute_result"
        }
      ],
      "source": [
        "qc.h(0)"
      ]
    },
    {
      "cell_type": "markdown",
      "metadata": {
        "id": "L_Sdezj_xN1F"
      },
      "source": [
        "Measure the first qubit (the input qubit) to determine the parity"
      ]
    },
    {
      "cell_type": "code",
      "execution_count": 156,
      "metadata": {
        "colab": {
          "base_uri": "https://localhost:8080/"
        },
        "id": "Iizh2FSZxN1G",
        "outputId": "b9c7939b-e7a3-4c67-f194-13436d4a46f4"
      },
      "outputs": [
        {
          "data": {
            "text/plain": [
              "<qiskit.circuit.instructionset.InstructionSet at 0x7c4137ef7010>"
            ]
          },
          "execution_count": 156,
          "metadata": {},
          "output_type": "execute_result"
        }
      ],
      "source": [
        "qc.measure(0, 0)"
      ]
    },
    {
      "cell_type": "markdown",
      "metadata": {
        "id": "kZile0lfxN1G"
      },
      "source": [
        "Simulate the circuit using Qiskit Aer simulator"
      ]
    },
    {
      "cell_type": "code",
      "execution_count": 157,
      "metadata": {
        "id": "UHndsrKNxN1H"
      },
      "outputs": [],
      "source": [
        "backend = AerSimulator()\n",
        "tqc = transpile(qc, backend)"
      ]
    },
    {
      "cell_type": "markdown",
      "metadata": {
        "id": "8mV4rcRnxN1H"
      },
      "source": [
        "Run the simulation with 4000 shots"
      ]
    },
    {
      "cell_type": "code",
      "execution_count": 158,
      "metadata": {
        "id": "qKQiMJIe0R9B"
      },
      "outputs": [],
      "source": [
        "job = backend.run(tqc, shots=4000)\n",
        "result = job.result()\n",
        "counts = result.get_counts()"
      ]
    },
    {
      "cell_type": "markdown",
      "metadata": {
        "id": "u89ZEs51xN1I"
      },
      "source": [
        " Visualize the circuit"
      ]
    },
    {
      "cell_type": "code",
      "execution_count": 159,
      "metadata": {
        "colab": {
          "base_uri": "https://localhost:8080/"
        },
        "id": "fvmqLU_bxN1I",
        "outputId": "b5d56a9b-d22e-4b2c-f7af-c0b5f94f479a"
      },
      "outputs": [
        {
          "name": "stdout",
          "output_type": "stream",
          "text": [
            "\n",
            "--- Visualizing Quantum Circuit ---\n",
            "Could not display matplotlib diagram automatically: \"The 'pylatexenc' library is required to use 'MatplotlibDrawer'. You can install it with 'pip install pylatexenc'.\"\n",
            "Falling back to text-based diagram:\n",
            "     ┌───┐     ┌───────────────────────┐┌───┐┌─┐\n",
            "q_0: ┤ H ├─────┤0                      ├┤ H ├┤M├\n",
            "     ├───┤┌───┐│  Balanced Oracle (Uf) │└───┘└╥┘\n",
            "q_1: ┤ X ├┤ H ├┤1                      ├──────╫─\n",
            "     └───┘└───┘└───────────────────────┘      ║ \n",
            "c: 1/═════════════════════════════════════════╩═\n",
            "                                              0 \n",
            "-----------------------------------\n",
            "\n"
          ]
        }
      ],
      "source": [
        "print(\"\\n--- Visualizing Quantum Circuit ---\")\n",
        "try:\n",
        "    # The 'mpl' style gives a publication-quality diagram\n",
        "    circuit_diagram = qc.draw(output='mpl', style='iqx', scale=1.1)\n",
        "    circuit_diagram.show()\n",
        "    print(\"Circuit diagram displayed in a new window.\")\n",
        "    # we can also save it to a file.\n",
        "    # circuit_diagram.savefig(\"deutsch_circuit.png\")\n",
        "except Exception as e:\n",
        "    print(f\"Could not display matplotlib diagram automatically: {e}\")\n",
        "    print(\"Falling back to text-based diagram:\")\n",
        "    print(qc)\n",
        "    print(\"-----------------------------------\\n\")\n"
      ]
    },
    {
      "cell_type": "markdown",
      "metadata": {
        "id": "Afvd3UfJxN1J"
      },
      "source": [
        "Output the result counts"
      ]
    },
    {
      "cell_type": "code",
      "execution_count": 160,
      "metadata": {
        "colab": {
          "base_uri": "https://localhost:8080/"
        },
        "id": "1w6aBCtMxN1J",
        "outputId": "70a5464f-b1e0-4b7e-86ae-04dd5fe83ba4"
      },
      "outputs": [
        {
          "name": "stdout",
          "output_type": "stream",
          "text": [
            "\n",
            "--- Simulation Results ---\n",
            "Measurement counts: {'1': 4000}\n",
            "--------------------------\n",
            "\n",
            "--- Interpretation ---\n",
            "The result is '1', which indicates the function is BALANCED.\n"
          ]
        }
      ],
      "source": [
        "print(\"\\n--- Simulation Results ---\")\n",
        "print(\"Measurement counts:\", counts)\n",
        "print(\"--------------------------\\n\")\n",
        "\n",
        "# Interpretation of the result\n",
        "print(\"--- Interpretation ---\")\n",
        "if '1' in counts:\n",
        "    print(\"The result is '1', which indicates the function is BALANCED.\")\n",
        "else:\n",
        "    print(\"The result is '0', which indicates the function is CONSTANT.\")"
      ]
    }
  ],
  "metadata": {
    "colab": {
      "provenance": []
    },
    "kernelspec": {
      "display_name": "base",
      "language": "python",
      "name": "python3"
    },
    "language_info": {
      "codemirror_mode": {
        "name": "ipython",
        "version": 3
      },
      "file_extension": ".py",
      "mimetype": "text/x-python",
      "name": "python",
      "nbconvert_exporter": "python",
      "pygments_lexer": "ipython3",
      "version": "3.10.8"
    }
  },
  "nbformat": 4,
  "nbformat_minor": 0
}
