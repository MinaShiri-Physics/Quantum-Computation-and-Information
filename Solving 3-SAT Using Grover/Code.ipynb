{
  "cells": [
    {
      "cell_type": "markdown",
      "source": [
        "# 3-SAT Solver using Grover's Algorithm\n",
        "\n",
        "The problem instance used here is:\n",
        "\n",
        "(x_1 OR x_2 OR NOT x_3) AND (NOT x_1 OR NOT x_2 OR NOT x_3) AND (x_1 OR NOT x_2 OR x_3)\n",
        "\n",
        "A satisfying assignment for this instance is x_1=1, x_2=0, x_3=1 (or the bitstring '101').\n",
        "\n",
        "\n"
      ],
      "metadata": {
        "id": "mngRYaGkXicB"
      }
    },
    {
      "cell_type": "markdown",
      "metadata": {
        "id": "c8ac0ee0"
      },
      "source": [
        "## Imports\n",
        "\n"
      ]
    },
    {
      "cell_type": "code",
      "metadata": {
        "id": "d86c24d2"
      },
      "source": [
        "import numpy as np\n",
        "from qiskit import QuantumCircuit\n",
        "from qiskit.circuit.library import MCMT\n",
        "from qiskit.visualization import plot_histogram\n",
        "from qiskit_aer.primitives import Sampler\n",
        "from qiskit_aer import AerSimulator"
      ],
      "execution_count": 22,
      "outputs": []
    },
    {
      "cell_type": "markdown",
      "metadata": {
        "id": "a1caec8a"
      },
      "source": [
        "# Function Definitions\n",
        "\n",
        "\n"
      ]
    },
    {
      "cell_type": "code",
      "metadata": {
        "id": "6717c334"
      },
      "source": [
        "\n",
        "def create_3sat_oracle(n_variables, clauses):\n",
        "    \"\"\"\n",
        "    Creates the quantum oracle for a given 3-SAT instance.\n",
        "\n",
        "    The oracle marks the quantum states that correspond to satisfying assignments.\n",
        "    It works by:\n",
        "    1. For each clause, using a multi-controlled Toffoli (MCX) gate to check if the clause is NOT satisfied.\n",
        "       The result is stored in an ancilla qubit for that clause.\n",
        "    2. Using another MCX gate to check if ALL clause ancillas are 0 (meaning all clauses ARE satisfied).\n",
        "       The result of this check flips a final output ancilla qubit.\n",
        "    3. Uncomputing the clause ancilla results to clean up the workspace.\n",
        "\n",
        "    Args:\n",
        "        n_variables (int): The number of boolean variables in the problem.\n",
        "        clauses (list[tuple]): A list of clauses. Each clause is a tuple of 3 integers.\n",
        "                               A positive integer i means variable x_i.\n",
        "                               A negative integer -i means NOT x_i.\n",
        "\n",
        "    Returns:\n",
        "        QuantumCircuit: The quantum circuit implementing the oracle.\n",
        "    \"\"\"\n",
        "    n_clauses = len(clauses)\n",
        "    var_qubits = range(n_variables)\n",
        "    clause_qubits = range(n_variables, n_variables + n_clauses)\n",
        "    output_qubit = n_variables + n_clauses\n",
        "    total_qubits = n_variables + n_clauses + 1\n",
        "\n",
        "    oracle_circuit = QuantumCircuit(total_qubits, name=\"Oracle\")\n",
        "\n",
        "    # --- Step 1: Compute if each clause is satisfied ---\n",
        "    for i, clause in enumerate(clauses):\n",
        "        control_qubits = []\n",
        "        for literal in clause:\n",
        "            if literal > 0:\n",
        "                oracle_circuit.x(abs(literal) - 1)\n",
        "            control_qubits.append(abs(literal) - 1)\n",
        "\n",
        "        oracle_circuit.mcx(control_qubits, clause_qubits[i])\n",
        "\n",
        "        for literal in clause:\n",
        "            if literal > 0:\n",
        "                oracle_circuit.x(abs(literal) - 1)\n",
        "        oracle_circuit.barrier()\n",
        "\n",
        "    # --- Step 2: Flip the output qubit if all clauses are satisfied ---\n",
        "    oracle_circuit.x(clause_qubits)\n",
        "    oracle_circuit.mcx(list(clause_qubits), output_qubit)\n",
        "    oracle_circuit.x(clause_qubits)\n",
        "    oracle_circuit.barrier()\n",
        "\n",
        "    # --- Step 3: Uncompute the clause satisfaction to clean the ancillas ---\n",
        "    for i, clause in enumerate(reversed(clauses)):\n",
        "        clause_idx = n_clauses - 1 - i\n",
        "        control_qubits = []\n",
        "        for literal in clause:\n",
        "            if literal > 0:\n",
        "                oracle_circuit.x(abs(literal) - 1)\n",
        "            control_qubits.append(abs(literal) - 1)\n",
        "\n",
        "        oracle_circuit.mcx(control_qubits, clause_qubits[clause_idx])\n",
        "\n",
        "        for literal in clause:\n",
        "            if literal > 0:\n",
        "                oracle_circuit.x(abs(literal) - 1)\n",
        "        oracle_circuit.barrier()\n",
        "\n",
        "    return oracle_circuit\n",
        "\n",
        "def create_diffuser(n_variables):\n",
        "    \"\"\"\n",
        "    Creates the diffuser (amplitude amplification) circuit for Grover's algorithm.\n",
        "    \"\"\"\n",
        "    qc = QuantumCircuit(n_variables, name=\"Diffuser\")\n",
        "    qc.h(range(n_variables))\n",
        "    qc.x(range(n_variables))\n",
        "    qc.h(n_variables - 1)\n",
        "    qc.mcx(list(range(n_variables - 1)), n_variables - 1)\n",
        "    qc.h(n_variables - 1)\n",
        "    qc.x(range(n_variables))\n",
        "    qc.h(range(n_variables))\n",
        "    return qc\n",
        "\n",
        "def verify_solution(solution_bits, clauses):\n",
        "    \"\"\"Checks if a given bitstring solution satisfies all clauses.\"\"\"\n",
        "    for clause in clauses:\n",
        "        clause_satisfied = False\n",
        "        for literal in clause:\n",
        "            var_index = abs(literal) - 1\n",
        "            # Ensure the solution_bits string is long enough\n",
        "            if var_index >= len(solution_bits):\n",
        "                return False\n",
        "            var_value = int(solution_bits[var_index])\n",
        "            if (literal > 0 and var_value == 1) or (literal < 0 and var_value == 0):\n",
        "                clause_satisfied = True\n",
        "                break\n",
        "        if not clause_satisfied:\n",
        "            return False\n",
        "    return True"
      ],
      "execution_count": 23,
      "outputs": []
    },
    {
      "cell_type": "markdown",
      "metadata": {
        "id": "4b11fee4"
      },
      "source": [
        "# Problem Definition\n",
        "\n",
        "\n"
      ]
    },
    {
      "cell_type": "code",
      "metadata": {
        "colab": {
          "base_uri": "https://localhost:8080/"
        },
        "id": "ad024f3e",
        "outputId": "966203bf-c90d-4f94-93e4-9c0d7a098880"
      },
      "source": [
        "# Define the 3-SAT problem instance\n",
        "n_vars = 3\n",
        "clauses = [(1, 2, -3), (-1, -2, -3), (1, -2, 3)]\n",
        "\n",
        "# Determine the number of Grover iterations\n",
        "n_solutions = 1 # Assuming we are looking for at least one solution\n",
        "grover_iterations = int(np.floor(np.pi / 4 * np.sqrt(2**n_vars / n_solutions)))\n",
        "print(f\"Number of variables: {n_vars}\")\n",
        "print(f\"Clauses: {clauses}\")\n",
        "print(f\"Optimal number of Grover iterations (assuming {n_solutions} solution(s)): {grover_iterations}\\n\")"
      ],
      "execution_count": 24,
      "outputs": [
        {
          "output_type": "stream",
          "name": "stdout",
          "text": [
            "Number of variables: 3\n",
            "Clauses: [(1, 2, -3), (-1, -2, -3), (1, -2, 3)]\n",
            "Optimal number of Grover iterations (assuming 1 solution(s)): 2\n",
            "\n"
          ]
        }
      ]
    },
    {
      "cell_type": "markdown",
      "metadata": {
        "id": "21e678c3"
      },
      "source": [
        "# Circuit Building\n",
        "\n",
        "\n"
      ]
    },
    {
      "cell_type": "code",
      "metadata": {
        "colab": {
          "base_uri": "https://localhost:8080/"
        },
        "id": "edb80314",
        "outputId": "a046a8d5-93df-46e1-9c0a-b511cd3b7f14"
      },
      "source": [
        "# Build the Oracle and Diffuser circuits\n",
        "oracle = create_3sat_oracle(n_vars, clauses)\n",
        "diffuser = create_diffuser(n_vars)\n",
        "\n",
        "# Assemble the full Grover circuit\n",
        "var_qubits = range(n_vars)\n",
        "n_clauses = len(clauses)\n",
        "total_qubits = n_vars + n_clauses + 1\n",
        "\n",
        "grover_circuit = QuantumCircuit(total_qubits, n_vars)\n",
        "grover_circuit.h(var_qubits)\n",
        "grover_circuit.x(n_vars + n_clauses)\n",
        "grover_circuit.h(n_vars + n_clauses)\n",
        "grover_circuit.barrier()\n",
        "\n",
        "for _ in range(grover_iterations):\n",
        "    grover_circuit.append(oracle, range(total_qubits))\n",
        "    grover_circuit.barrier()\n",
        "    grover_circuit.append(diffuser, var_qubits)\n",
        "    grover_circuit.barrier()\n",
        "\n",
        "grover_circuit.measure(var_qubits, var_qubits)"
      ],
      "execution_count": 25,
      "outputs": [
        {
          "output_type": "execute_result",
          "data": {
            "text/plain": [
              "<qiskit.circuit.instructionset.InstructionSet at 0x7a6968147c40>"
            ]
          },
          "metadata": {},
          "execution_count": 25
        }
      ]
    },
    {
      "cell_type": "markdown",
      "metadata": {
        "id": "e1e2a4b4"
      },
      "source": [
        "# Execution\n",
        "\n",
        "\n"
      ]
    },
    {
      "cell_type": "code",
      "metadata": {
        "id": "2e844e38"
      },
      "source": [
        "sampler = Sampler()\n",
        "job = sampler.run(grover_circuit, shots=1024)\n",
        "result = job.result()"
      ],
      "execution_count": 26,
      "outputs": []
    },
    {
      "cell_type": "markdown",
      "source": [
        "# Draw the circuit using Matplotlib\n"
      ],
      "metadata": {
        "id": "IGc9wORTdkVR"
      }
    },
    {
      "cell_type": "code",
      "metadata": {
        "colab": {
          "base_uri": "https://localhost:8080/",
          "height": 494
        },
        "id": "a5ac4a71",
        "outputId": "5ab3cea9-edd6-46b3-ad30-a7daf5359ed8"
      },
      "source": [
        "grover_circuit.draw(output=\"mpl\")"
      ],
      "execution_count": 27,
      "outputs": [
        {
          "output_type": "execute_result",
          "data": {
            "text/plain": [
              "<Figure size 1625.27x702.333 with 1 Axes>"
            ],
            "image/png": "[encoded data removed]"
          },
          "metadata": {},
          "execution_count": 27
        }
      ]
    },
    {
      "cell_type": "markdown",
      "metadata": {
        "id": "cbd16a59"
      },
      "source": [
        "# Result Processing\n",
        "\n"
      ]
    },
    {
      "cell_type": "code",
      "metadata": {
        "colab": {
          "base_uri": "https://localhost:8080/"
        },
        "id": "df9b57bc",
        "outputId": "04b21cc7-76ec-4de6-a2d0-310fea39691b"
      },
      "source": [
        "# The result object contains quasi-probabilities.\n",
        "# We get the distribution for the first (and only) circuit.\n",
        "quasi_distribution = result.quasi_dists[0]\n",
        "\n",
        "# Convert the integer keys to binary strings\n",
        "counts = {f'{k:0{n_vars}b}': v * 1024 for k, v in quasi_distribution.items()}\n",
        "\n",
        "# Find the most frequent measurement result\n",
        "most_likely_solution_binary = max(counts, key=counts.get)\n",
        "\n",
        "# The result is already in the correct order (q_n-1 ... q_1 q_0)\n",
        "# We reverse it to match our variable order (x1, x2, x3)\n",
        "solution_candidate = most_likely_solution_binary[::-1]\n",
        "\n",
        "print(f\"\\n--- Results ---\")\n",
        "print(f\"Top measurement result (x3, x2, x1): {most_likely_solution_binary}\")\n",
        "print(f\"Proposed solution (x1, x2, x3): {solution_candidate}\")\n",
        "\n",
        "# Verify the solution\n",
        "is_correct = verify_solution(solution_candidate, clauses)\n",
        "if is_correct:\n",
        "    print(\"\\nVerification successful: The solution satisfies all clauses.\")\n",
        "else:\n",
        "    print(\"\\nVerification failed: The solution does not satisfy all clauses.\")"
      ],
      "execution_count": 28,
      "outputs": [
        {
          "output_type": "stream",
          "name": "stdout",
          "text": [
            "\n",
            "--- Results ---\n",
            "Top measurement result (x3, x2, x1): 110\n",
            "Proposed solution (x1, x2, x3): 011\n",
            "\n",
            "Verification successful: The solution satisfies all clauses.\n"
          ]
        }
      ]
    },
    {
      "cell_type": "markdown",
      "metadata": {
        "id": "d9b38686"
      },
      "source": [
        "# Plotting\n",
        "\n",
        "\n",
        "\n"
      ]
    },
    {
      "cell_type": "code",
      "metadata": {
        "colab": {
          "base_uri": "https://localhost:8080/",
          "height": 522
        },
        "id": "fefe28f7",
        "outputId": "b13d6c9f-ddd6-4f3f-8111-70f0932cc487"
      },
      "source": [
        "# Display the measurement histogram\n",
        "print(\"\\nPlotting measurement outcomes...\")\n",
        "plot_histogram(counts)"
      ],
      "execution_count": 29,
      "outputs": [
        {
          "output_type": "stream",
          "name": "stdout",
          "text": [
            "\n",
            "Plotting measurement outcomes...\n"
          ]
        },
        {
          "output_type": "execute_result",
          "data": {
            "text/plain": [
              "<Figure size 640x480 with 1 Axes>"
            ],
            "image/png": "[encoded data removed]"
          },
          "metadata": {},
          "execution_count": 29
        }
      ]
    }
  ],
  "metadata": {
    "colab": {
      "provenance": []
    },
    "kernelspec": {
      "display_name": "Python 3",
      "name": "python3"
    }
  },
  "nbformat": 4,
  "nbformat_minor": 0
}