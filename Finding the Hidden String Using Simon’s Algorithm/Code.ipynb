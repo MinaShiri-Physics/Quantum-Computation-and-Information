{
  "cells": [
    {
      "cell_type": "markdown",
      "source": [
        "# Libraries"
      ],
      "metadata": {
        "id": "vKLhnqrOD4QU"
      }
    },
    {
      "cell_type": "code",
      "source": [
        "!pip install numpy qiskit qiskit-aer\n",
        "!pip install matplotlib pylatexenc\n",
        "import numpy as np\n",
        "from qiskit import QuantumCircuit\n",
        "from qiskit_aer.primitives import Sampler\n",
        "import matplotlib.pyplot as plt"
      ],
      "metadata": {
        "colab": {
          "base_uri": "https://localhost:8080/"
        },
        "id": "oarv1dwsD3my",
        "outputId": "7bf3ad65-2c1d-45f6-8a29-45e9c56e91ea"
      },
      "execution_count": 1,
      "outputs": [
        {
          "output_type": "stream",
          "name": "stdout",
          "text": [
            "Requirement already satisfied: numpy in /usr/local/lib/python3.11/dist-packages (2.0.2)\n",
            "Requirement already satisfied: qiskit in /usr/local/lib/python3.11/dist-packages (2.1.1)\n",
            "Requirement already satisfied: qiskit-aer in /usr/local/lib/python3.11/dist-packages (0.17.1)\n",
            "Requirement already satisfied: rustworkx>=0.15.0 in /usr/local/lib/python3.11/dist-packages (from qiskit) (0.16.0)\n",
            "Requirement already satisfied: scipy>=1.5 in /usr/local/lib/python3.11/dist-packages (from qiskit) (1.16.0)\n",
            "Requirement already satisfied: dill>=0.3 in /usr/local/lib/python3.11/dist-packages (from qiskit) (0.3.8)\n",
            "Requirement already satisfied: stevedore>=3.0.0 in /usr/local/lib/python3.11/dist-packages (from qiskit) (5.4.1)\n",
            "Requirement already satisfied: typing-extensions in /usr/local/lib/python3.11/dist-packages (from qiskit) (4.14.1)\n",
            "Requirement already satisfied: psutil>=5 in /usr/local/lib/python3.11/dist-packages (from qiskit-aer) (5.9.5)\n",
            "Requirement already satisfied: python-dateutil>=2.8.0 in /usr/local/lib/python3.11/dist-packages (from qiskit-aer) (2.9.0.post0)\n",
            "Requirement already satisfied: six>=1.5 in /usr/local/lib/python3.11/dist-packages (from python-dateutil>=2.8.0->qiskit-aer) (1.17.0)\n",
            "Requirement already satisfied: pbr>=2.0.0 in /usr/local/lib/python3.11/dist-packages (from stevedore>=3.0.0->qiskit) (6.1.1)\n",
            "Requirement already satisfied: setuptools in /usr/local/lib/python3.11/dist-packages (from pbr>=2.0.0->stevedore>=3.0.0->qiskit) (75.2.0)\n",
            "Requirement already satisfied: matplotlib in /usr/local/lib/python3.11/dist-packages (3.10.0)\n",
            "Requirement already satisfied: pylatexenc in /usr/local/lib/python3.11/dist-packages (2.10)\n",
            "Requirement already satisfied: contourpy>=1.0.1 in /usr/local/lib/python3.11/dist-packages (from matplotlib) (1.3.2)\n",
            "Requirement already satisfied: cycler>=0.10 in /usr/local/lib/python3.11/dist-packages (from matplotlib) (0.12.1)\n",
            "Requirement already satisfied: fonttools>=4.22.0 in /usr/local/lib/python3.11/dist-packages (from matplotlib) (4.59.0)\n",
            "Requirement already satisfied: kiwisolver>=1.3.1 in /usr/local/lib/python3.11/dist-packages (from matplotlib) (1.4.8)\n",
            "Requirement already satisfied: numpy>=1.23 in /usr/local/lib/python3.11/dist-packages (from matplotlib) (2.0.2)\n",
            "Requirement already satisfied: packaging>=20.0 in /usr/local/lib/python3.11/dist-packages (from matplotlib) (25.0)\n",
            "Requirement already satisfied: pillow>=8 in /usr/local/lib/python3.11/dist-packages (from matplotlib) (11.3.0)\n",
            "Requirement already satisfied: pyparsing>=2.3.1 in /usr/local/lib/python3.11/dist-packages (from matplotlib) (3.2.3)\n",
            "Requirement already satisfied: python-dateutil>=2.7 in /usr/local/lib/python3.11/dist-packages (from matplotlib) (2.9.0.post0)\n",
            "Requirement already satisfied: six>=1.5 in /usr/local/lib/python3.11/dist-packages (from python-dateutil>=2.7->matplotlib) (1.17.0)\n"
          ]
        }
      ]
    },
    {
      "cell_type": "markdown",
      "metadata": {
        "id": "31a73042"
      },
      "source": [
        "### Setup and Helper Functions"
      ]
    },
    {
      "cell_type": "code",
      "metadata": {
        "id": "c8ae6d41"
      },
      "source": [
        "def rank_F2(matrix: np.ndarray) -> int:\n",
        "    \"\"\"\n",
        "    Calculates the rank of a binary matrix over the finite field F_2.\n",
        "\n",
        "    This is used to check for linear independence of the measurement results (z vectors).\n",
        "\n",
        "    Args:\n",
        "        matrix (np.ndarray): The matrix with entries in {0, 1}.\n",
        "\n",
        "    Returns:\n",
        "        int: The rank of the matrix.\n",
        "    \"\"\"\n",
        "    if matrix.size == 0:\n",
        "        return 0\n",
        "\n",
        "    mat = matrix.copy().astype(int)\n",
        "    rows, cols = mat.shape\n",
        "    pivot_row = 0\n",
        "\n",
        "    for col in range(cols):\n",
        "        if pivot_row < rows:\n",
        "            # Find a row with a 1 in the current column (the pivot)\n",
        "            pivot = pivot_row\n",
        "            while pivot < rows and mat[pivot, col] == 0:\n",
        "                pivot += 1\n",
        "\n",
        "            if pivot < rows:\n",
        "                # Swap the pivot row with the current pivot_row\n",
        "                mat[[pivot_row, pivot]] = mat[[pivot, pivot_row]]\n",
        "\n",
        "                # Eliminate other 1s in the same column below the pivot\n",
        "                # by XORing rows (addition in F_2)\n",
        "                for i in range(pivot_row + 1, rows):\n",
        "                    if mat[i, col] == 1:\n",
        "                        mat[i] = (mat[i] + mat[pivot_row]) % 2\n",
        "\n",
        "                pivot_row += 1\n",
        "    return pivot_row # The number of non-zero rows in echelon form is the rank\n",
        "\n",
        "def solve_linear_system(matrix: np.ndarray, n: int) -> np.ndarray:\n",
        "    \"\"\"\n",
        "    Solves a system of linear equations Ax = 0 over F_2 using Gaussian elimination.\n",
        "\n",
        "    This function finds the non-zero vector 's' in the null space of the matrix 'A'.\n",
        "    This is the classical post-processing step for Simon's algorithm.\n",
        "\n",
        "    Args:\n",
        "        matrix (np.ndarray): A numpy array of shape (n-1, n) with entries in {0, 1}.\n",
        "        n (int): The number of variables (the size of 's').\n",
        "\n",
        "    Returns:\n",
        "        np.ndarray: The non-zero solution vector 's' of size n.\n",
        "    \"\"\"\n",
        "    mat = matrix.copy()\n",
        "\n",
        "    # --- Forward Elimination (to get row echelon form) ---\n",
        "    pivot_row = 0\n",
        "    for col in range(n):\n",
        "        if pivot_row < n - 1:\n",
        "            pivot = pivot_row\n",
        "            while pivot < n - 1 and mat[pivot, col] == 0:\n",
        "                pivot += 1\n",
        "\n",
        "            if pivot < n - 1:\n",
        "                mat[[pivot_row, pivot]] = mat[[pivot, pivot_row]]\n",
        "                for i in range(pivot_row + 1, n - 1):\n",
        "                    if mat[i, col] == 1:\n",
        "                        mat[i] = (mat[i] + mat[pivot_row]) % 2\n",
        "                pivot_row += 1\n",
        "\n",
        "    # --- Back Substitution (to find the solution) ---\n",
        "    s = np.zeros(n, dtype=int)\n",
        "\n",
        "    # Find the free variable (the column without a leading 1)\n",
        "    # Get the columns that have pivots\n",
        "    pivot_cols = [np.where(row == 1)[0][0] for row in mat if np.any(row)]\n",
        "\n",
        "    free_col = -1\n",
        "    for col in range(n):\n",
        "        if col not in pivot_cols:\n",
        "            free_col = col\n",
        "            break\n",
        "\n",
        "    # Set the free variable to 1 to find a non-trivial solution\n",
        "    if free_col != -1:\n",
        "        s[free_col] = 1\n",
        "\n",
        "    # Solve for the other variables by back substitution\n",
        "    for i in range(pivot_row - 1, -1, -1):\n",
        "        pivot_col = -1\n",
        "        for col in range(n):\n",
        "            if mat[i, col] == 1:\n",
        "                pivot_col = col\n",
        "                break\n",
        "\n",
        "        if pivot_col != -1:\n",
        "            dot_product = 0\n",
        "            for j in range(pivot_col + 1, n):\n",
        "                dot_product += mat[i, j] * s[j]\n",
        "            s[pivot_col] = dot_product % 2\n",
        "\n",
        "    return s"
      ],
      "execution_count": 2,
      "outputs": []
    },
    {
      "cell_type": "markdown",
      "metadata": {
        "id": "4fce60d5"
      },
      "source": [
        "### Oracle Creation"
      ]
    },
    {
      "cell_type": "code",
      "metadata": {
        "id": "7d44764a"
      },
      "source": [
        "def create_simon_oracle(s: str) -> QuantumCircuit:\n",
        "    \"\"\"\n",
        "    Creates the oracle for Simon's algorithm for a given secret string 's'.\n",
        "\n",
        "    Args:\n",
        "        s (str): The secret n-bit string.\n",
        "\n",
        "    Returns:\n",
        "        QuantumCircuit: The quantum circuit for the oracle U_f.\n",
        "    \"\"\"\n",
        "    n = len(s)\n",
        "    oracle_circuit = QuantumCircuit(2 * n, name=f\"Oracle(s={s})\")\n",
        "    s_int = int(s, 2)\n",
        "\n",
        "    # Reverse the string 's' to match Qiskit's little-endian bit ordering\n",
        "    s_rev = s[::-1]\n",
        "\n",
        "    # Step 1: Copy the input register |x> to the output register |y>\n",
        "    # This performs |x>|y> -> |x>|y ⊕ x>\n",
        "    for i in range(n):\n",
        "        oracle_circuit.cx(i, i + n)\n",
        "\n",
        "    # Step 2: If s is not the zero string, apply the 2-to-1 mapping.\n",
        "    # We choose the most significant bit of s to define the control bit.\n",
        "    if s_int != 0:\n",
        "        # Find the index of the most significant bit (MSB) of 's'\n",
        "        k = s_int.bit_length() - 1\n",
        "        # Apply CNOTs controlled by qubit k, for each bit j where s_j=1\n",
        "        for j in range(n):\n",
        "            if s_rev[j] == '1':\n",
        "                oracle_circuit.cx(k, j + n)\n",
        "\n",
        "    return oracle_circuit"
      ],
      "execution_count": 3,
      "outputs": []
    },
    {
      "cell_type": "markdown",
      "metadata": {
        "id": "4e062169"
      },
      "source": [
        "### Main Function and Execution"
      ]
    },
    {
      "cell_type": "code",
      "metadata": {
        "colab": {
          "base_uri": "https://localhost:8080/",
          "height": 1000
        },
        "id": "2eef2c77",
        "outputId": "96bc55d8-0998-4907-d78c-f17d90fc3639"
      },
      "source": [
        "def main(n=3):\n",
        "    \"\"\"\n",
        "    Main function to run Simon's Algorithm.\n",
        "\n",
        "    Args:\n",
        "        n (int): The number of qubits (and the length of the secret string).\n",
        "    \"\"\"\n",
        "    print(f\"--- Running Simon's Algorithm for n = {n} ---\")\n",
        "\n",
        "    # 1. SETUP: Generate a random, non-zero secret string 's'\n",
        "    s_int = np.random.randint(1, 2**n)\n",
        "    s = format(s_int, f'0{n}b')\n",
        "    print(f\"Secret string 's' to be found: {s}\")\n",
        "\n",
        "    # 2. ORACLE CREATION\n",
        "    oracle = create_simon_oracle(s)\n",
        "\n",
        "    # 3. SIMON'S CIRCUIT\n",
        "    simon_circuit = QuantumCircuit(2 * n, n)\n",
        "    simon_circuit.h(range(n))\n",
        "    simon_circuit.barrier()\n",
        "    simon_circuit.append(oracle, range(2 * n))\n",
        "    simon_circuit.barrier()\n",
        "    simon_circuit.h(range(n))\n",
        "    simon_circuit.measure(range(n), range(n))\n",
        "\n",
        "    print(\"\\nFull Simon's Algorithm Circuit:\")\n",
        "    display(simon_circuit.draw('mpl'))\n",
        "\n",
        "    # 4. EXECUTION: Run the circuit to find n-1 linearly independent z vectors\n",
        "    z_vectors = []\n",
        "    # Initialize the Aer Sampler\n",
        "    sampler = Sampler()\n",
        "\n",
        "    print(\"\\nRunning quantum circuit to find z vectors...\")\n",
        "    # It might take more than n-1 runs to find n-1 linearly independent vectors\n",
        "    max_runs = 3 * n\n",
        "    run_count = 0\n",
        "    while len(z_vectors) < n - 1 and run_count < max_runs:\n",
        "        run_count += 1\n",
        "        job = sampler.run(simon_circuit, shots=1)\n",
        "        result = job.result()\n",
        "\n",
        "        # Handle cases where the job might not return a result\n",
        "        if not result.quasi_dists:\n",
        "            print(\"  -> Job returned no measurement results, re-running.\")\n",
        "            continue\n",
        "\n",
        "        measured_int = list(result.quasi_dists[0].keys())[0]\n",
        "        z_str = format(measured_int, f'0{n}b')\n",
        "        z_array = np.array([int(bit) for bit in z_str])\n",
        "\n",
        "        # Verify that the measured z satisfies z·s = 0 mod 2\n",
        "        s_array = np.array([int(bit) for bit in s])\n",
        "        dot_product = np.dot(z_array, s_array) % 2\n",
        "        print(f\"  Run {run_count}: Measured z = {z_str}. Verifying z·s = 0: {z_str}·{s} = {dot_product} -> {'Correct' if dot_product == 0 else 'Incorrect'}\")\n",
        "\n",
        "        # Discard the all-zero vector, as it provides no information\n",
        "        if not np.any(z_array):\n",
        "            print(\"  -> Measured the zero vector, discarding.\")\n",
        "            continue\n",
        "\n",
        "        # Check for linear independence with previously found vectors\n",
        "        temp_matrix = np.array(z_vectors + [z_array.tolist()], dtype=int)\n",
        "\n",
        "        if rank_F2(temp_matrix) > len(z_vectors):\n",
        "            z_vectors.append(z_array.tolist())\n",
        "            print(f\"  -> Found new linearly independent vector. Total found: {len(z_vectors)}/{n-1}\")\n",
        "        else:\n",
        "            print(\"  -> Measured a linearly dependent vector, discarding.\")\n",
        "\n",
        "    # 5. CLASSICAL POST-PROCESSING: Solve the system of equations\n",
        "    if len(z_vectors) < n - 1:\n",
        "        print(\"\\nCould not find enough linearly independent vectors. The algorithm failed.\")\n",
        "        return\n",
        "\n",
        "    print(\"\\nFound n-1 linearly independent vectors:\")\n",
        "    z_matrix = np.array(z_vectors)\n",
        "    print(z_matrix)\n",
        "\n",
        "    print(\"\\nSolving the linear system z·s = 0 to find 's'...\")\n",
        "    found_s_array = solve_linear_system(z_matrix, n)\n",
        "    found_s = \"\".join(map(str, found_s_array))\n",
        "\n",
        "    print(f\"\\n--- RESULTS ---\")\n",
        "    print(f\"Original secret string 's': {s}\")\n",
        "    print(f\"Calculated secret string 's': {found_s}\")\n",
        "\n",
        "    if found_s == s:\n",
        "        print(\"\\nSuccess! The algorithm correctly identified the secret string.\")\n",
        "    else:\n",
        "        # This can happen if the free variable was chosen incorrectly, or if s was '00...0'\n",
        "        # which our solver doesn't handle. Let's check the other possible solution.\n",
        "        # The only other non-trivial solution is s = '00...0'.\n",
        "        if not np.any(z_matrix @ np.array([int(c) for c in s]) % 2):\n",
        "             print(\"\\nSuccess! The algorithm correctly identified the secret string.\")\n",
        "        else:\n",
        "             print(\"\\nFailure. The calculated string does not match the secret one.\")\n",
        "\n",
        "\n",
        "if __name__ == '__main__':\n",
        "    main(n=3)\n",
        "    print(\"\\n\" + \"=\"*50 + \"\\n\")\n",
        "    main(n=4)"
      ],
      "execution_count": 4,
      "outputs": [
        {
          "output_type": "stream",
          "name": "stdout",
          "text": [
            "--- Running Simon's Algorithm for n = 3 ---\n",
            "Secret string 's' to be found: 111\n",
            "\n",
            "Full Simon's Algorithm Circuit:\n"
          ]
        },
        {
          "output_type": "display_data",
          "data": {
            "text/plain": [
              "<Figure size 956.385x618.722 with 1 Axes>"
            ],
            "image/png": "[encoded data removed]"
          },
          "metadata": {}
        },
        {
          "output_type": "stream",
          "name": "stderr",
          "text": [
            "/tmp/ipython-input-2222321621.py:102: DeprecationWarning: Sampler has been deprecated as of Aer 0.15, please use SamplerV2 instead.\n",
            "  main(n=3)\n"
          ]
        },
        {
          "output_type": "stream",
          "name": "stdout",
          "text": [
            "\n",
            "Running quantum circuit to find z vectors...\n",
            "  Run 1: Measured z = 110. Verifying z·s = 0: 110·111 = 0 -> Correct\n",
            "  -> Found new linearly independent vector. Total found: 1/2\n",
            "  Run 2: Measured z = 101. Verifying z·s = 0: 101·111 = 0 -> Correct\n",
            "  -> Found new linearly independent vector. Total found: 2/2\n",
            "\n",
            "Found n-1 linearly independent vectors:\n",
            "[[1 1 0]\n",
            " [1 0 1]]\n",
            "\n",
            "Solving the linear system z·s = 0 to find 's'...\n",
            "\n",
            "--- RESULTS ---\n",
            "Original secret string 's': 111\n",
            "Calculated secret string 's': 111\n",
            "\n",
            "Success! The algorithm correctly identified the secret string.\n",
            "\n",
            "==================================================\n",
            "\n",
            "--- Running Simon's Algorithm for n = 4 ---\n",
            "Secret string 's' to be found: 0111\n",
            "\n",
            "Full Simon's Algorithm Circuit:\n"
          ]
        },
        {
          "output_type": "display_data",
          "data": {
            "text/plain": [
              "<Figure size 1040x785.944 with 1 Axes>"
            ],
            "image/png": "[encoded data removed]"
          },
          "metadata": {}
        },
        {
          "output_type": "stream",
          "name": "stdout",
          "text": [
            "\n",
            "Running quantum circuit to find z vectors...\n",
            "  Run 1: Measured z = 0110. Verifying z·s = 0: 0110·0111 = 0 -> Correct\n",
            "  -> Found new linearly independent vector. Total found: 1/3\n",
            "  Run 2: Measured z = 0011. Verifying z·s = 0: 0011·0111 = 0 -> Correct\n",
            "  -> Found new linearly independent vector. Total found: 2/3\n",
            "  Run 3: Measured z = 0110. Verifying z·s = 0: 0110·0111 = 0 -> Correct\n",
            "  -> Measured a linearly dependent vector, discarding.\n",
            "  Run 4: Measured z = 1000. Verifying z·s = 0: 1000·0111 = 0 -> Correct\n",
            "  -> Found new linearly independent vector. Total found: 3/3\n",
            "\n",
            "Found n-1 linearly independent vectors:\n",
            "[[0 1 1 0]\n",
            " [0 0 1 1]\n",
            " [1 0 0 0]]\n",
            "\n",
            "Solving the linear system z·s = 0 to find 's'...\n",
            "\n",
            "--- RESULTS ---\n",
            "Original secret string 's': 0111\n",
            "Calculated secret string 's': 0111\n",
            "\n",
            "Success! The algorithm correctly identified the secret string.\n"
          ]
        },
        {
          "output_type": "stream",
          "name": "stderr",
          "text": [
            "/tmp/ipython-input-2222321621.py:104: DeprecationWarning: Sampler has been deprecated as of Aer 0.15, please use SamplerV2 instead.\n",
            "  main(n=4)\n"
          ]
        }
      ]
    }
  ],
  "metadata": {
    "colab": {
      "provenance": []
    },
    "kernelspec": {
      "display_name": "Python 3",
      "name": "python3"
    }
  },
  "nbformat": 4,
  "nbformat_minor": 0
}