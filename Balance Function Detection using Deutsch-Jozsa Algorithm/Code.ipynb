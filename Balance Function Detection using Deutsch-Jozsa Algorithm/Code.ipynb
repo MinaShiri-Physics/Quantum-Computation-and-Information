{
  "cells": [
    {
      "cell_type": "markdown",
      "metadata": {
        "id": "56013fc3"
      },
      "source": [
        "### Setup and Imports"
      ]
    },
    {
      "cell_type": "code",
      "metadata": {
        "colab": {
          "base_uri": "https://localhost:8080/"
        },
        "id": "479ba841",
        "outputId": "d8ef2158-3224-4eed-abd0-a554fd8a8491"
      },
      "source": [
        "!pip install qiskit\n",
        "!pip install qiskit_aer\n",
        "!pip install pylatexenc\n",
        "from qiskit import QuantumCircuit, transpile\n",
        "from qiskit_aer import AerSimulator\n",
        "from qiskit.visualization import plot_histogram"
      ],
      "execution_count": null,
      "outputs": [
        {
          "output_type": "stream",
          "name": "stdout",
          "text": [
            "Requirement already satisfied: qiskit in /usr/local/lib/python3.11/dist-packages (2.1.1)\n",
            "Requirement already satisfied: rustworkx>=0.15.0 in /usr/local/lib/python3.11/dist-packages (from qiskit) (0.16.0)\n",
            "Requirement already satisfied: numpy<3,>=1.17 in /usr/local/lib/python3.11/dist-packages (from qiskit) (2.0.2)\n",
            "Requirement already satisfied: scipy>=1.5 in /usr/local/lib/python3.11/dist-packages (from qiskit) (1.15.3)\n",
            "Requirement already satisfied: dill>=0.3 in /usr/local/lib/python3.11/dist-packages (from qiskit) (0.3.7)\n",
            "Requirement already satisfied: stevedore>=3.0.0 in /usr/local/lib/python3.11/dist-packages (from qiskit) (5.4.1)\n",
            "Requirement already satisfied: typing-extensions in /usr/local/lib/python3.11/dist-packages (from qiskit) (4.14.1)\n",
            "Requirement already satisfied: pbr>=2.0.0 in /usr/local/lib/python3.11/dist-packages (from stevedore>=3.0.0->qiskit) (6.1.1)\n",
            "Requirement already satisfied: setuptools in /usr/local/lib/python3.11/dist-packages (from pbr>=2.0.0->stevedore>=3.0.0->qiskit) (75.2.0)\n",
            "Requirement already satisfied: qiskit_aer in /usr/local/lib/python3.11/dist-packages (0.17.1)\n",
            "Requirement already satisfied: qiskit>=1.1.0 in /usr/local/lib/python3.11/dist-packages (from qiskit_aer) (2.1.1)\n",
            "Requirement already satisfied: numpy>=1.16.3 in /usr/local/lib/python3.11/dist-packages (from qiskit_aer) (2.0.2)\n",
            "Requirement already satisfied: scipy>=1.0 in /usr/local/lib/python3.11/dist-packages (from qiskit_aer) (1.15.3)\n",
            "Requirement already satisfied: psutil>=5 in /usr/local/lib/python3.11/dist-packages (from qiskit_aer) (5.9.5)\n",
            "Requirement already satisfied: python-dateutil>=2.8.0 in /usr/local/lib/python3.11/dist-packages (from qiskit_aer) (2.9.0.post0)\n",
            "Requirement already satisfied: six>=1.5 in /usr/local/lib/python3.11/dist-packages (from python-dateutil>=2.8.0->qiskit_aer) (1.17.0)\n",
            "Requirement already satisfied: rustworkx>=0.15.0 in /usr/local/lib/python3.11/dist-packages (from qiskit>=1.1.0->qiskit_aer) (0.16.0)\n",
            "Requirement already satisfied: dill>=0.3 in /usr/local/lib/python3.11/dist-packages (from qiskit>=1.1.0->qiskit_aer) (0.3.7)\n",
            "Requirement already satisfied: stevedore>=3.0.0 in /usr/local/lib/python3.11/dist-packages (from qiskit>=1.1.0->qiskit_aer) (5.4.1)\n",
            "Requirement already satisfied: typing-extensions in /usr/local/lib/python3.11/dist-packages (from qiskit>=1.1.0->qiskit_aer) (4.14.1)\n",
            "Requirement already satisfied: pbr>=2.0.0 in /usr/local/lib/python3.11/dist-packages (from stevedore>=3.0.0->qiskit>=1.1.0->qiskit_aer) (6.1.1)\n",
            "Requirement already satisfied: setuptools in /usr/local/lib/python3.11/dist-packages (from pbr>=2.0.0->stevedore>=3.0.0->qiskit>=1.1.0->qiskit_aer) (75.2.0)\n",
            "Requirement already satisfied: pylatexenc in /usr/local/lib/python3.11/dist-packages (2.10)\n"
          ]
        }
      ]
    },
    {
      "cell_type": "markdown",
      "metadata": {
        "id": "462b0b86"
      },
      "source": [
        "### Quantum Circuit Creation and Gates"
      ]
    },
    {
      "cell_type": "code",
      "metadata": {
        "colab": {
          "base_uri": "https://localhost:8080/",
          "height": 272
        },
        "id": "bd9a4827",
        "outputId": "843ddd02-a8b8-4fad-ec19-7e62e651ade6"
      },
      "source": [
        "# We'll create a circuit with 2 qubits and 2 classical bits for measurement.\n",
        "qc = QuantumCircuit(2, 2)\n",
        "\n",
        "# Apply Hadamard Gate\n",
        "qc.h(0)\n",
        "\n",
        "# Apply a CNOT (Controlled-NOT) gate with qubit 0 as control and qubit 1 as target\n",
        "qc.cx(0, 1)\n",
        "\n",
        "# Measure the Qubits\n",
        "qc.measure([0, 1], [0, 1])\n",
        "\n",
        "# Print the Circuit\n",
        "print(\"--- Quantum Circuit ---\")\n",
        "display(qc.draw('mpl'))"
      ],
      "execution_count": null,
      "outputs": [
        {
          "output_type": "stream",
          "name": "stdout",
          "text": [
            "--- Quantum Circuit ---\n"
          ]
        },
        {
          "output_type": "display_data",
          "data": {
            "text/plain": [
              "<Figure size 454.517x284.278 with 1 Axes>"
            ],
            "image/png": "[encoded data removed]"
          },
          "metadata": {}
        }
      ]
    },
    {
      "cell_type": "markdown",
      "metadata": {
        "id": "578eb885"
      },
      "source": [
        "### Simulate the Circuit"
      ]
    },
    {
      "cell_type": "code",
      "metadata": {
        "colab": {
          "base_uri": "https://localhost:8080/"
        },
        "id": "d97e7e37",
        "outputId": "62ac5a51-ca47-4e73-883a-9d802af4a9b1"
      },
      "source": [
        "# Simulate the Circuit using AerSimulator\n",
        "simulator = AerSimulator()\n",
        "\n",
        "# Transpile the circuit for the simulator.\n",
        "compiled_circuit = transpile(qc, simulator)\n",
        "\n",
        "# Run the simulation.\n",
        "job = simulator.run(compiled_circuit, shots=1024) # Run 1024 times to get counts\n",
        "result = job.result()\n",
        "\n",
        "# Get the Measurement Results (Counts)\n",
        "counts = result.get_counts(qc)\n",
        "\n",
        "print(\"\\n--- Measurement Results (Counts) ---\")\n",
        "print(counts)\n",
        "print(\"-\" * 35)"
      ],
      "execution_count": null,
      "outputs": [
        {
          "output_type": "stream",
          "name": "stdout",
          "text": [
            "\n",
            "--- Measurement Results (Counts) ---\n",
            "{'00': 510, '11': 514}\n",
            "-----------------------------------\n"
          ]
        }
      ]
    },
    {
      "cell_type": "markdown",
      "metadata": {
        "id": "0c13de5a"
      },
      "source": [
        "### Visualize the Results"
      ]
    },
    {
      "cell_type": "code",
      "metadata": {
        "colab": {
          "base_uri": "https://localhost:8080/",
          "height": 522
        },
        "id": "eee2e714",
        "outputId": "e8b1368e-8c0a-4e89-8a71-50271328013f"
      },
      "source": [
        "try:\n",
        "    hist_plot = plot_histogram(counts)\n",
        "    display(hist_plot)\n",
        "    print(\"\\nHistogram plot generated and displayed.\")\n",
        "except Exception as e:\n",
        "    print(f\"\\nCould not generate or display histogram plot: {e}\")\n",
        "    print(\"Ensure matplotlib is installed and you are in a graphical environment to view plots.\")"
      ],
      "execution_count": null,
      "outputs": [
        {
          "output_type": "display_data",
          "data": {
            "text/plain": [
              "<Figure size 640x480 with 1 Axes>"
            ],
            "image/png": "[encoded data removed]"
          },
          "metadata": {}
        },
        {
          "output_type": "stream",
          "name": "stdout",
          "text": [
            "\n",
            "Histogram plot generated and displayed.\n"
          ]
        }
      ]
    }
  ],
  "metadata": {
    "colab": {
      "provenance": []
    },
    "kernelspec": {
      "display_name": "Python 3",
      "name": "python3"
    }
  },
  "nbformat": 4,
  "nbformat_minor": 0
}